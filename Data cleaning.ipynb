{
    "metadata": {
        "kernelspec": {
            "name": "SQL",
            "display_name": "SQL",
            "language": "sql"
        },
        "language_info": {
            "name": "sql",
            "version": ""
        }
    },
    "nbformat_minor": 2,
    "nbformat": 4,
    "cells": [
        {
            "cell_type": "code",
            "source": [
                "SELECT TOP 5 * FROM Online_Retail"
            ],
            "metadata": {
                "azdata_cell_guid": "7b38f48c-8b0d-4836-8ebb-a49bb98cbce9",
                "language": "sql"
            },
            "outputs": [
                {
                    "output_type": "display_data",
                    "data": {
                        "text/html": "(5 rows affected)"
                    },
                    "metadata": {}
                },
                {
                    "output_type": "display_data",
                    "data": {
                        "text/html": "Total execution time: 00:00:00.024"
                    },
                    "metadata": {}
                },
                {
                    "output_type": "execute_result",
                    "execution_count": 3,
                    "data": {
                        "application/vnd.dataresource+json": {
                            "schema": {
                                "fields": [
                                    {
                                        "name": "InvoiceNo"
                                    },
                                    {
                                        "name": "StockCode"
                                    },
                                    {
                                        "name": "Description"
                                    },
                                    {
                                        "name": "Quantity"
                                    },
                                    {
                                        "name": "InvoiceDate"
                                    },
                                    {
                                        "name": "UnitPrice"
                                    },
                                    {
                                        "name": "CustomerID"
                                    },
                                    {
                                        "name": "Country"
                                    }
                                ]
                            },
                            "data": [
                                {
                                    "0": "540458",
                                    "1": "20702",
                                    "2": "PINK PADDED MOBILE",
                                    "3": "3",
                                    "4": "2011-01-07 12:28:00.000",
                                    "5": "4.25",
                                    "6": "12501",
                                    "7": "Germany"
                                },
                                {
                                    "0": "540543",
                                    "1": "20702",
                                    "2": "PINK PADDED MOBILE",
                                    "3": "4",
                                    "4": "2011-01-09 15:23:00.000",
                                    "5": "4.25",
                                    "6": "14395",
                                    "7": "United Kingdom"
                                },
                                {
                                    "0": "542241",
                                    "1": "20702",
                                    "2": "PINK PADDED MOBILE",
                                    "3": "1",
                                    "4": "2011-01-26 14:51:00.000",
                                    "5": "4.25",
                                    "6": "16409",
                                    "7": "United Kingdom"
                                },
                                {
                                    "0": "542782",
                                    "1": "20702",
                                    "2": "PINK PADDED MOBILE",
                                    "3": "6",
                                    "4": "2011-02-01 10:00:00.000",
                                    "5": "4.25",
                                    "6": "12712",
                                    "7": "Germany"
                                },
                                {
                                    "0": "543374",
                                    "1": "20702",
                                    "2": "PINK PADDED MOBILE",
                                    "3": "3",
                                    "4": "2011-02-07 15:05:00.000",
                                    "5": "4.25",
                                    "6": "16945",
                                    "7": "United Kingdom"
                                }
                            ]
                        },
                        "text/html": "<table><tr><th>InvoiceNo</th><th>StockCode</th><th>Description</th><th>Quantity</th><th>InvoiceDate</th><th>UnitPrice</th><th>CustomerID</th><th>Country</th></tr><tr><td>540458</td><td>20702</td><td>PINK PADDED MOBILE</td><td>3</td><td>2011-01-07 12:28:00.000</td><td>4.25</td><td>12501</td><td>Germany</td></tr><tr><td>540543</td><td>20702</td><td>PINK PADDED MOBILE</td><td>4</td><td>2011-01-09 15:23:00.000</td><td>4.25</td><td>14395</td><td>United Kingdom</td></tr><tr><td>542241</td><td>20702</td><td>PINK PADDED MOBILE</td><td>1</td><td>2011-01-26 14:51:00.000</td><td>4.25</td><td>16409</td><td>United Kingdom</td></tr><tr><td>542782</td><td>20702</td><td>PINK PADDED MOBILE</td><td>6</td><td>2011-02-01 10:00:00.000</td><td>4.25</td><td>12712</td><td>Germany</td></tr><tr><td>543374</td><td>20702</td><td>PINK PADDED MOBILE</td><td>3</td><td>2011-02-07 15:05:00.000</td><td>4.25</td><td>16945</td><td>United Kingdom</td></tr></table>"
                    },
                    "metadata": {}
                }
            ],
            "execution_count": 3
        },
        {
            "cell_type": "code",
            "source": [
                "SELECT TOP 2 SIGN(Quantity)\r\n",
                "FROM Online_Retail"
            ],
            "metadata": {
                "azdata_cell_guid": "3bfd7db1-87d4-4a01-aeec-8444ead965f5",
                "language": "sql",
                "tags": []
            },
            "outputs": [
                {
                    "output_type": "display_data",
                    "data": {
                        "text/html": "(2 rows affected)"
                    },
                    "metadata": {}
                },
                {
                    "output_type": "display_data",
                    "data": {
                        "text/html": "Total execution time: 00:00:00.037"
                    },
                    "metadata": {}
                },
                {
                    "output_type": "execute_result",
                    "execution_count": 5,
                    "data": {
                        "application/vnd.dataresource+json": {
                            "schema": {
                                "fields": [
                                    {
                                        "name": "(No column name)"
                                    }
                                ]
                            },
                            "data": [
                                {
                                    "0": "1"
                                },
                                {
                                    "0": "1"
                                }
                            ]
                        },
                        "text/html": "<table><tr><th>(No column name)</th></tr><tr><td>1</td></tr><tr><td>1</td></tr></table>"
                    },
                    "metadata": {}
                }
            ],
            "execution_count": 5
        },
        {
            "cell_type": "code",
            "source": [
                "SELECT TOP 2 *\r\n",
                "FROM Online_Retail\r\n",
                "WHERE Quantity < 0"
            ],
            "metadata": {
                "azdata_cell_guid": "c99c6847-b9e4-42c4-8609-b71ad8d0839f",
                "language": "sql"
            },
            "outputs": [
                {
                    "output_type": "display_data",
                    "data": {
                        "text/html": "(2 rows affected)"
                    },
                    "metadata": {}
                },
                {
                    "output_type": "display_data",
                    "data": {
                        "text/html": "Total execution time: 00:00:00.017"
                    },
                    "metadata": {}
                },
                {
                    "output_type": "execute_result",
                    "execution_count": 7,
                    "data": {
                        "application/vnd.dataresource+json": {
                            "schema": {
                                "fields": [
                                    {
                                        "name": "InvoiceNo"
                                    },
                                    {
                                        "name": "StockCode"
                                    },
                                    {
                                        "name": "Description"
                                    },
                                    {
                                        "name": "Quantity"
                                    },
                                    {
                                        "name": "InvoiceDate"
                                    },
                                    {
                                        "name": "UnitPrice"
                                    },
                                    {
                                        "name": "CustomerID"
                                    },
                                    {
                                        "name": "Country"
                                    }
                                ]
                            },
                            "data": [
                                {
                                    "0": "NULL",
                                    "1": "20703",
                                    "2": "BLUE PADDED SOFT MOBILE",
                                    "3": "-3",
                                    "4": "2010-12-08 13:43:00.000",
                                    "5": "4.25",
                                    "6": "12712",
                                    "7": "Germany"
                                },
                                {
                                    "0": "NULL",
                                    "1": "20703",
                                    "2": "BLUE PADDED SOFT MOBILE",
                                    "3": "-1",
                                    "4": "2011-04-27 14:07:00.000",
                                    "5": "4.25",
                                    "6": "15005",
                                    "7": "United Kingdom"
                                }
                            ]
                        },
                        "text/html": "<table><tr><th>InvoiceNo</th><th>StockCode</th><th>Description</th><th>Quantity</th><th>InvoiceDate</th><th>UnitPrice</th><th>CustomerID</th><th>Country</th></tr><tr><td>NULL</td><td>20703</td><td>BLUE PADDED SOFT MOBILE</td><td>-3</td><td>2010-12-08 13:43:00.000</td><td>4.25</td><td>12712</td><td>Germany</td></tr><tr><td>NULL</td><td>20703</td><td>BLUE PADDED SOFT MOBILE</td><td>-1</td><td>2011-04-27 14:07:00.000</td><td>4.25</td><td>15005</td><td>United Kingdom</td></tr></table>"
                    },
                    "metadata": {}
                }
            ],
            "execution_count": 7
        },
        {
            "cell_type": "code",
            "source": [
                "DELETE \r\n",
                "FROM Online_Retail\r\n",
                "WHERE Quantity < 0"
            ],
            "metadata": {
                "azdata_cell_guid": "9da156c5-fdc7-4987-a6f6-a2750f7fa949",
                "language": "sql"
            },
            "outputs": [
                {
                    "output_type": "display_data",
                    "data": {
                        "text/html": "(10624 rows affected)"
                    },
                    "metadata": {}
                },
                {
                    "output_type": "display_data",
                    "data": {
                        "text/html": "Total execution time: 00:00:00.392"
                    },
                    "metadata": {}
                }
            ],
            "execution_count": 8
        },
        {
            "cell_type": "code",
            "source": [
                "SELECT TOP 2 *\r\n",
                "FROM Online_Retail\r\n",
                "WHERE Quantity < 0"
            ],
            "metadata": {
                "azdata_cell_guid": "1499e806-cd30-4386-86cc-f3bc6f3d7e86",
                "language": "sql"
            },
            "outputs": [
                {
                    "output_type": "display_data",
                    "data": {
                        "text/html": "(0 rows affected)"
                    },
                    "metadata": {}
                },
                {
                    "output_type": "display_data",
                    "data": {
                        "text/html": "Total execution time: 00:00:00.072"
                    },
                    "metadata": {}
                },
                {
                    "output_type": "execute_result",
                    "execution_count": 9,
                    "data": {
                        "application/vnd.dataresource+json": {
                            "schema": {
                                "fields": [
                                    {
                                        "name": "InvoiceNo"
                                    },
                                    {
                                        "name": "StockCode"
                                    },
                                    {
                                        "name": "Description"
                                    },
                                    {
                                        "name": "Quantity"
                                    },
                                    {
                                        "name": "InvoiceDate"
                                    },
                                    {
                                        "name": "UnitPrice"
                                    },
                                    {
                                        "name": "CustomerID"
                                    },
                                    {
                                        "name": "Country"
                                    }
                                ]
                            },
                            "data": []
                        },
                        "text/html": "<table><tr><th>InvoiceNo</th><th>StockCode</th><th>Description</th><th>Quantity</th><th>InvoiceDate</th><th>UnitPrice</th><th>CustomerID</th><th>Country</th></tr></table>"
                    },
                    "metadata": {}
                }
            ],
            "execution_count": 9
        },
        {
            "cell_type": "code",
            "source": [
                "SELECT *\r\n",
                "FROM Online_Retail\r\n",
                "WHERE UnitPrice < 0"
            ],
            "metadata": {
                "azdata_cell_guid": "fbe6c39f-06a5-4447-812a-964c9100777f",
                "language": "sql"
            },
            "outputs": [
                {
                    "output_type": "display_data",
                    "data": {
                        "text/html": "(2 rows affected)"
                    },
                    "metadata": {}
                },
                {
                    "output_type": "display_data",
                    "data": {
                        "text/html": "Total execution time: 00:00:00.210"
                    },
                    "metadata": {}
                },
                {
                    "output_type": "execute_result",
                    "execution_count": 11,
                    "data": {
                        "application/vnd.dataresource+json": {
                            "schema": {
                                "fields": [
                                    {
                                        "name": "InvoiceNo"
                                    },
                                    {
                                        "name": "StockCode"
                                    },
                                    {
                                        "name": "Description"
                                    },
                                    {
                                        "name": "Quantity"
                                    },
                                    {
                                        "name": "InvoiceDate"
                                    },
                                    {
                                        "name": "UnitPrice"
                                    },
                                    {
                                        "name": "CustomerID"
                                    },
                                    {
                                        "name": "Country"
                                    }
                                ]
                            },
                            "data": [
                                {
                                    "0": "NULL",
                                    "1": "NULL",
                                    "2": "Adjust bad debt",
                                    "3": "1",
                                    "4": "2011-08-12 14:51:00.000",
                                    "5": "-11062.06",
                                    "6": "NULL",
                                    "7": "United Kingdom"
                                },
                                {
                                    "0": "NULL",
                                    "1": "NULL",
                                    "2": "Adjust bad debt",
                                    "3": "1",
                                    "4": "2011-08-12 14:52:00.000",
                                    "5": "-11062.06",
                                    "6": "NULL",
                                    "7": "United Kingdom"
                                }
                            ]
                        },
                        "text/html": "<table><tr><th>InvoiceNo</th><th>StockCode</th><th>Description</th><th>Quantity</th><th>InvoiceDate</th><th>UnitPrice</th><th>CustomerID</th><th>Country</th></tr><tr><td>NULL</td><td>NULL</td><td>Adjust bad debt</td><td>1</td><td>2011-08-12 14:51:00.000</td><td>-11062.06</td><td>NULL</td><td>United Kingdom</td></tr><tr><td>NULL</td><td>NULL</td><td>Adjust bad debt</td><td>1</td><td>2011-08-12 14:52:00.000</td><td>-11062.06</td><td>NULL</td><td>United Kingdom</td></tr></table>"
                    },
                    "metadata": {}
                }
            ],
            "execution_count": 11
        },
        {
            "cell_type": "code",
            "source": [
                "DELETE \r\n",
                "FROM Online_Retail\r\n",
                "WHERE UnitPrice < 0\r\n",
                "GO"
            ],
            "metadata": {
                "azdata_cell_guid": "35a3624c-819a-4b94-8e20-bc5875ee5781",
                "language": "sql"
            },
            "outputs": [
                {
                    "output_type": "display_data",
                    "data": {
                        "text/html": "(2 rows affected)"
                    },
                    "metadata": {}
                },
                {
                    "output_type": "display_data",
                    "data": {
                        "text/html": "Total execution time: 00:00:00.099"
                    },
                    "metadata": {}
                }
            ],
            "execution_count": 12
        },
        {
            "cell_type": "code",
            "source": [
                "SELECT *\r\n",
                "FROM Online_Retail\r\n",
                "WHERE UnitPrice < 0\r\n",
                "GO"
            ],
            "metadata": {
                "azdata_cell_guid": "5e586a4c-3f11-492a-a4ac-b1806a7183ec",
                "language": "sql"
            },
            "outputs": [
                {
                    "output_type": "display_data",
                    "data": {
                        "text/html": "(0 rows affected)"
                    },
                    "metadata": {}
                },
                {
                    "output_type": "display_data",
                    "data": {
                        "text/html": "Total execution time: 00:00:00.124"
                    },
                    "metadata": {}
                },
                {
                    "output_type": "execute_result",
                    "execution_count": 13,
                    "data": {
                        "application/vnd.dataresource+json": {
                            "schema": {
                                "fields": [
                                    {
                                        "name": "InvoiceNo"
                                    },
                                    {
                                        "name": "StockCode"
                                    },
                                    {
                                        "name": "Description"
                                    },
                                    {
                                        "name": "Quantity"
                                    },
                                    {
                                        "name": "InvoiceDate"
                                    },
                                    {
                                        "name": "UnitPrice"
                                    },
                                    {
                                        "name": "CustomerID"
                                    },
                                    {
                                        "name": "Country"
                                    }
                                ]
                            },
                            "data": []
                        },
                        "text/html": "<table><tr><th>InvoiceNo</th><th>StockCode</th><th>Description</th><th>Quantity</th><th>InvoiceDate</th><th>UnitPrice</th><th>CustomerID</th><th>Country</th></tr></table>"
                    },
                    "metadata": {}
                }
            ],
            "execution_count": 13
        },
        {
            "cell_type": "code",
            "source": [
                "SELECT TOP 2 * \r\n",
                "FROM Online_Retail\r\n",
                "WHERE StockCode IS NULL"
            ],
            "metadata": {
                "azdata_cell_guid": "580453bf-e9d5-41e3-8662-5613f260d7b9",
                "language": "sql"
            },
            "outputs": [
                {
                    "output_type": "display_data",
                    "data": {
                        "text/html": "(2 rows affected)"
                    },
                    "metadata": {}
                },
                {
                    "output_type": "display_data",
                    "data": {
                        "text/html": "Total execution time: 00:00:00.110"
                    },
                    "metadata": {}
                },
                {
                    "output_type": "execute_result",
                    "execution_count": 20,
                    "data": {
                        "application/vnd.dataresource+json": {
                            "schema": {
                                "fields": [
                                    {
                                        "name": "InvoiceNo"
                                    },
                                    {
                                        "name": "StockCode"
                                    },
                                    {
                                        "name": "Description"
                                    },
                                    {
                                        "name": "Quantity"
                                    },
                                    {
                                        "name": "InvoiceDate"
                                    },
                                    {
                                        "name": "UnitPrice"
                                    },
                                    {
                                        "name": "CustomerID"
                                    },
                                    {
                                        "name": "Country"
                                    }
                                ]
                            },
                            "data": [
                                {
                                    "0": "567280",
                                    "1": "NULL",
                                    "2": "CHILDRENS CUTLERY POLKADOT PINK",
                                    "3": "72",
                                    "4": "2011-09-19 11:46:00.000",
                                    "5": "3.75",
                                    "6": "14646",
                                    "7": "Netherlands"
                                },
                                {
                                    "0": "567300",
                                    "1": "NULL",
                                    "2": "CHILDRENS CUTLERY POLKADOT PINK",
                                    "3": "4",
                                    "4": "2011-09-19 12:36:00.000",
                                    "5": "4.15",
                                    "6": "12724",
                                    "7": "France"
                                }
                            ]
                        },
                        "text/html": "<table><tr><th>InvoiceNo</th><th>StockCode</th><th>Description</th><th>Quantity</th><th>InvoiceDate</th><th>UnitPrice</th><th>CustomerID</th><th>Country</th></tr><tr><td>567280</td><td>NULL</td><td>CHILDRENS CUTLERY POLKADOT PINK</td><td>72</td><td>2011-09-19 11:46:00.000</td><td>3.75</td><td>14646</td><td>Netherlands</td></tr><tr><td>567300</td><td>NULL</td><td>CHILDRENS CUTLERY POLKADOT PINK</td><td>4</td><td>2011-09-19 12:36:00.000</td><td>4.15</td><td>12724</td><td>France</td></tr></table>"
                    },
                    "metadata": {}
                }
            ],
            "execution_count": 20
        },
        {
            "cell_type": "code",
            "source": [
                "SELECT * \r\n",
                "FROM Online_Retail\r\n",
                "WHERE StockCode IS NOT NULL AND [Description] = '3 ROSE MORRIS BOXED CANDLES'"
            ],
            "metadata": {
                "azdata_cell_guid": "4dc3b8c1-6c8f-4592-a640-b0587141444d",
                "language": "sql"
            },
            "outputs": [
                {
                    "output_type": "display_data",
                    "data": {
                        "text/html": "(0 rows affected)"
                    },
                    "metadata": {}
                },
                {
                    "output_type": "display_data",
                    "data": {
                        "text/html": "Total execution time: 00:00:00.103"
                    },
                    "metadata": {}
                },
                {
                    "output_type": "execute_result",
                    "execution_count": 21,
                    "data": {
                        "application/vnd.dataresource+json": {
                            "schema": {
                                "fields": [
                                    {
                                        "name": "InvoiceNo"
                                    },
                                    {
                                        "name": "StockCode"
                                    },
                                    {
                                        "name": "Description"
                                    },
                                    {
                                        "name": "Quantity"
                                    },
                                    {
                                        "name": "InvoiceDate"
                                    },
                                    {
                                        "name": "UnitPrice"
                                    },
                                    {
                                        "name": "CustomerID"
                                    },
                                    {
                                        "name": "Country"
                                    }
                                ]
                            },
                            "data": []
                        },
                        "text/html": "<table><tr><th>InvoiceNo</th><th>StockCode</th><th>Description</th><th>Quantity</th><th>InvoiceDate</th><th>UnitPrice</th><th>CustomerID</th><th>Country</th></tr></table>"
                    },
                    "metadata": {}
                }
            ],
            "execution_count": 21
        },
        {
            "cell_type": "code",
            "source": [
                "SELECT COUNT(*) \r\n",
                "FROM Online_Retail\r\n",
                "WHERE [Description] IS NULL"
            ],
            "metadata": {
                "azdata_cell_guid": "9922bed0-2b65-41ee-8c40-e462150d6ae5",
                "language": "sql"
            },
            "outputs": [
                {
                    "output_type": "display_data",
                    "data": {
                        "text/html": "(1 row affected)"
                    },
                    "metadata": {}
                },
                {
                    "output_type": "display_data",
                    "data": {
                        "text/html": "Total execution time: 00:00:00.095"
                    },
                    "metadata": {}
                },
                {
                    "output_type": "execute_result",
                    "execution_count": 23,
                    "data": {
                        "application/vnd.dataresource+json": {
                            "schema": {
                                "fields": [
                                    {
                                        "name": "(No column name)"
                                    }
                                ]
                            },
                            "data": [
                                {
                                    "0": "592"
                                }
                            ]
                        },
                        "text/html": "<table><tr><th>(No column name)</th></tr><tr><td>592</td></tr></table>"
                    },
                    "metadata": {}
                }
            ],
            "execution_count": 23
        },
        {
            "cell_type": "code",
            "source": [
                "DELETE \r\n",
                "FROM Online_Retail\r\n",
                "WHERE [Description] IS NULL"
            ],
            "metadata": {
                "azdata_cell_guid": "3202d63b-82d6-4edf-8120-c31596b39c06",
                "language": "sql"
            },
            "outputs": [
                {
                    "output_type": "display_data",
                    "data": {
                        "text/html": "(592 rows affected)"
                    },
                    "metadata": {}
                },
                {
                    "output_type": "display_data",
                    "data": {
                        "text/html": "Total execution time: 00:00:00.081"
                    },
                    "metadata": {}
                }
            ],
            "execution_count": 24
        },
        {
            "cell_type": "code",
            "source": [
                "SELECT * \r\n",
                "FROM Online_Retail\r\n",
                "WHERE LEN([Description]) < 5"
            ],
            "metadata": {
                "azdata_cell_guid": "2953f7b7-09ed-41f3-a24e-df4bf3efc26b",
                "language": "sql"
            },
            "outputs": [
                {
                    "output_type": "display_data",
                    "data": {
                        "text/html": "(9 rows affected)"
                    },
                    "metadata": {}
                },
                {
                    "output_type": "display_data",
                    "data": {
                        "text/html": "Total execution time: 00:00:00.107"
                    },
                    "metadata": {}
                },
                {
                    "output_type": "execute_result",
                    "execution_count": 25,
                    "data": {
                        "application/vnd.dataresource+json": {
                            "schema": {
                                "fields": [
                                    {
                                        "name": "InvoiceNo"
                                    },
                                    {
                                        "name": "StockCode"
                                    },
                                    {
                                        "name": "Description"
                                    },
                                    {
                                        "name": "Quantity"
                                    },
                                    {
                                        "name": "InvoiceDate"
                                    },
                                    {
                                        "name": "UnitPrice"
                                    },
                                    {
                                        "name": "CustomerID"
                                    },
                                    {
                                        "name": "Country"
                                    }
                                ]
                            },
                            "data": [
                                {
                                    "0": "539494",
                                    "1": "21479",
                                    "2": "?",
                                    "3": "752",
                                    "4": "2010-12-20 10:36:00.000",
                                    "5": "0",
                                    "6": "NULL",
                                    "7": "United Kingdom"
                                },
                                {
                                    "0": "566064",
                                    "1": "22355",
                                    "2": "test",
                                    "3": "1",
                                    "4": "2011-09-08 15:53:00.000",
                                    "5": "0",
                                    "6": "NULL",
                                    "7": "United Kingdom"
                                },
                                {
                                    "0": "561665",
                                    "1": "22171",
                                    "2": "?",
                                    "3": "142",
                                    "4": "2011-07-28 16:55:00.000",
                                    "5": "0",
                                    "6": "NULL",
                                    "7": "United Kingdom"
                                },
                                {
                                    "0": "560565",
                                    "1": "82583",
                                    "2": "FBA",
                                    "3": "160",
                                    "4": "2011-07-19 13:44:00.000",
                                    "5": "0",
                                    "6": "NULL",
                                    "7": "United Kingdom"
                                },
                                {
                                    "0": "566574",
                                    "1": "22823",
                                    "2": "test",
                                    "3": "22",
                                    "4": "2011-09-13 13:14:00.000",
                                    "5": "0",
                                    "6": "NULL",
                                    "7": "United Kingdom"
                                },
                                {
                                    "0": "556231",
                                    "1": "NULL",
                                    "2": "?",
                                    "3": "4000",
                                    "4": "2011-06-09 15:04:00.000",
                                    "5": "0",
                                    "6": "NULL",
                                    "7": "United Kingdom"
                                },
                                {
                                    "0": "546139",
                                    "1": "84988",
                                    "2": "?",
                                    "3": "3000",
                                    "4": "2011-03-09 16:35:00.000",
                                    "5": "0",
                                    "6": "NULL",
                                    "7": "United Kingdom"
                                },
                                {
                                    "0": "572920",
                                    "1": "NULL",
                                    "2": "?",
                                    "3": "117",
                                    "4": "2011-10-26 16:52:00.000",
                                    "5": "0",
                                    "6": "NULL",
                                    "7": "United Kingdom"
                                },
                                {
                                    "0": "565288",
                                    "1": "23135",
                                    "2": "?",
                                    "3": "101",
                                    "4": "2011-09-02 11:43:00.000",
                                    "5": "0",
                                    "6": "NULL",
                                    "7": "United Kingdom"
                                }
                            ]
                        },
                        "text/html": "<table><tr><th>InvoiceNo</th><th>StockCode</th><th>Description</th><th>Quantity</th><th>InvoiceDate</th><th>UnitPrice</th><th>CustomerID</th><th>Country</th></tr><tr><td>539494</td><td>21479</td><td>?</td><td>752</td><td>2010-12-20 10:36:00.000</td><td>0</td><td>NULL</td><td>United Kingdom</td></tr><tr><td>566064</td><td>22355</td><td>test</td><td>1</td><td>2011-09-08 15:53:00.000</td><td>0</td><td>NULL</td><td>United Kingdom</td></tr><tr><td>561665</td><td>22171</td><td>?</td><td>142</td><td>2011-07-28 16:55:00.000</td><td>0</td><td>NULL</td><td>United Kingdom</td></tr><tr><td>560565</td><td>82583</td><td>FBA</td><td>160</td><td>2011-07-19 13:44:00.000</td><td>0</td><td>NULL</td><td>United Kingdom</td></tr><tr><td>566574</td><td>22823</td><td>test</td><td>22</td><td>2011-09-13 13:14:00.000</td><td>0</td><td>NULL</td><td>United Kingdom</td></tr><tr><td>556231</td><td>NULL</td><td>?</td><td>4000</td><td>2011-06-09 15:04:00.000</td><td>0</td><td>NULL</td><td>United Kingdom</td></tr><tr><td>546139</td><td>84988</td><td>?</td><td>3000</td><td>2011-03-09 16:35:00.000</td><td>0</td><td>NULL</td><td>United Kingdom</td></tr><tr><td>572920</td><td>NULL</td><td>?</td><td>117</td><td>2011-10-26 16:52:00.000</td><td>0</td><td>NULL</td><td>United Kingdom</td></tr><tr><td>565288</td><td>23135</td><td>?</td><td>101</td><td>2011-09-02 11:43:00.000</td><td>0</td><td>NULL</td><td>United Kingdom</td></tr></table>"
                    },
                    "metadata": {}
                }
            ],
            "execution_count": 25
        },
        {
            "cell_type": "code",
            "source": [
                "DELETE \r\n",
                "FROM Online_Retail\r\n",
                "WHERE [Description] = '?'"
            ],
            "metadata": {
                "azdata_cell_guid": "c811080a-bce6-48da-90b3-bae1fe569f56",
                "language": "sql"
            },
            "outputs": [
                {
                    "output_type": "display_data",
                    "data": {
                        "text/html": "(6 rows affected)"
                    },
                    "metadata": {}
                },
                {
                    "output_type": "display_data",
                    "data": {
                        "text/html": "Total execution time: 00:00:00.086"
                    },
                    "metadata": {}
                }
            ],
            "execution_count": 26
        },
        {
            "cell_type": "code",
            "source": [
                "SELECT * \r\n",
                "FROM Online_Retail\r\n",
                "WHERE LEN([Description]) < 5"
            ],
            "metadata": {
                "azdata_cell_guid": "37b0914a-cd5c-4f20-ba91-7a293ef4caac",
                "language": "sql"
            },
            "outputs": [
                {
                    "output_type": "display_data",
                    "data": {
                        "text/html": "(3 rows affected)"
                    },
                    "metadata": {}
                },
                {
                    "output_type": "display_data",
                    "data": {
                        "text/html": "Total execution time: 00:00:00.161"
                    },
                    "metadata": {}
                },
                {
                    "output_type": "execute_result",
                    "execution_count": 2,
                    "data": {
                        "application/vnd.dataresource+json": {
                            "schema": {
                                "fields": [
                                    {
                                        "name": "InvoiceNo"
                                    },
                                    {
                                        "name": "StockCode"
                                    },
                                    {
                                        "name": "Description"
                                    },
                                    {
                                        "name": "Quantity"
                                    },
                                    {
                                        "name": "InvoiceDate"
                                    },
                                    {
                                        "name": "UnitPrice"
                                    },
                                    {
                                        "name": "CustomerID"
                                    },
                                    {
                                        "name": "Country"
                                    }
                                ]
                            },
                            "data": [
                                {
                                    "0": "566064",
                                    "1": "22355",
                                    "2": "test",
                                    "3": "1",
                                    "4": "2011-09-08 15:53:00.000",
                                    "5": "0",
                                    "6": "NULL",
                                    "7": "United Kingdom"
                                },
                                {
                                    "0": "560565",
                                    "1": "82583",
                                    "2": "FBA",
                                    "3": "160",
                                    "4": "2011-07-19 13:44:00.000",
                                    "5": "0",
                                    "6": "NULL",
                                    "7": "United Kingdom"
                                },
                                {
                                    "0": "566574",
                                    "1": "22823",
                                    "2": "test",
                                    "3": "22",
                                    "4": "2011-09-13 13:14:00.000",
                                    "5": "0",
                                    "6": "NULL",
                                    "7": "United Kingdom"
                                }
                            ]
                        },
                        "text/html": "<table><tr><th>InvoiceNo</th><th>StockCode</th><th>Description</th><th>Quantity</th><th>InvoiceDate</th><th>UnitPrice</th><th>CustomerID</th><th>Country</th></tr><tr><td>566064</td><td>22355</td><td>test</td><td>1</td><td>2011-09-08 15:53:00.000</td><td>0</td><td>NULL</td><td>United Kingdom</td></tr><tr><td>560565</td><td>82583</td><td>FBA</td><td>160</td><td>2011-07-19 13:44:00.000</td><td>0</td><td>NULL</td><td>United Kingdom</td></tr><tr><td>566574</td><td>22823</td><td>test</td><td>22</td><td>2011-09-13 13:14:00.000</td><td>0</td><td>NULL</td><td>United Kingdom</td></tr></table>"
                    },
                    "metadata": {}
                }
            ],
            "execution_count": 2
        },
        {
            "cell_type": "code",
            "source": [
                "SELECT TOP 2 *, (Quantity * UnitPrice) AS Sales\r\n",
                "FROM Online_Retail"
            ],
            "metadata": {
                "azdata_cell_guid": "fa16ba84-d7da-4df6-9935-f83c74e4dd12",
                "language": "sql",
                "tags": [
                    "hide_input"
                ]
            },
            "outputs": [
                {
                    "output_type": "display_data",
                    "data": {
                        "text/html": "(2 rows affected)"
                    },
                    "metadata": {}
                },
                {
                    "output_type": "display_data",
                    "data": {
                        "text/html": "Total execution time: 00:00:00.018"
                    },
                    "metadata": {}
                },
                {
                    "output_type": "execute_result",
                    "execution_count": 29,
                    "data": {
                        "application/vnd.dataresource+json": {
                            "schema": {
                                "fields": [
                                    {
                                        "name": "InvoiceNo"
                                    },
                                    {
                                        "name": "StockCode"
                                    },
                                    {
                                        "name": "Description"
                                    },
                                    {
                                        "name": "Quantity"
                                    },
                                    {
                                        "name": "InvoiceDate"
                                    },
                                    {
                                        "name": "UnitPrice"
                                    },
                                    {
                                        "name": "CustomerID"
                                    },
                                    {
                                        "name": "Country"
                                    },
                                    {
                                        "name": "Sales"
                                    }
                                ]
                            },
                            "data": [
                                {
                                    "0": "540458",
                                    "1": "20702",
                                    "2": "PINK PADDED MOBILE",
                                    "3": "3",
                                    "4": "2011-01-07 12:28:00.000",
                                    "5": "4.25",
                                    "6": "12501",
                                    "7": "Germany",
                                    "8": "12.75"
                                },
                                {
                                    "0": "540543",
                                    "1": "20702",
                                    "2": "PINK PADDED MOBILE",
                                    "3": "4",
                                    "4": "2011-01-09 15:23:00.000",
                                    "5": "4.25",
                                    "6": "14395",
                                    "7": "United Kingdom",
                                    "8": "17"
                                }
                            ]
                        },
                        "text/html": "<table><tr><th>InvoiceNo</th><th>StockCode</th><th>Description</th><th>Quantity</th><th>InvoiceDate</th><th>UnitPrice</th><th>CustomerID</th><th>Country</th><th>Sales</th></tr><tr><td>540458</td><td>20702</td><td>PINK PADDED MOBILE</td><td>3</td><td>2011-01-07 12:28:00.000</td><td>4.25</td><td>12501</td><td>Germany</td><td>12.75</td></tr><tr><td>540543</td><td>20702</td><td>PINK PADDED MOBILE</td><td>4</td><td>2011-01-09 15:23:00.000</td><td>4.25</td><td>14395</td><td>United Kingdom</td><td>17</td></tr></table>"
                    },
                    "metadata": {}
                }
            ],
            "execution_count": 29
        },
        {
            "cell_type": "code",
            "source": [
                "SELECT COUNT(*) \r\n",
                "FROM Online_Retail\r\n",
                "WHERE CustomerID IS NULL \r\n",
                "GO"
            ],
            "metadata": {
                "azdata_cell_guid": "058b7ecf-a0e3-49ec-ad90-a0043e2d3ef9",
                "language": "sql"
            },
            "outputs": [
                {
                    "output_type": "display_data",
                    "data": {
                        "text/html": "(1 row affected)"
                    },
                    "metadata": {}
                },
                {
                    "output_type": "display_data",
                    "data": {
                        "text/html": "Total execution time: 00:00:00.088"
                    },
                    "metadata": {}
                },
                {
                    "output_type": "execute_result",
                    "execution_count": 2,
                    "data": {
                        "application/vnd.dataresource+json": {
                            "schema": {
                                "fields": [
                                    {
                                        "name": "(No column name)"
                                    }
                                ]
                            },
                            "data": [
                                {
                                    "0": "132761"
                                }
                            ]
                        },
                        "text/html": "<table><tr><th>(No column name)</th></tr><tr><td>132761</td></tr></table>"
                    },
                    "metadata": {}
                }
            ],
            "execution_count": 2
        },
        {
            "cell_type": "code",
            "source": [
                "SELECT DISTINCT MONTH(InvoiceDate)\r\n",
                "FROM Online_Retail\r\n",
                "WHERE YEAR(InvoiceDate) = 2010"
            ],
            "metadata": {
                "azdata_cell_guid": "806f1da9-b126-43b1-a555-419b55a5ad8c",
                "language": "sql"
            },
            "outputs": [
                {
                    "output_type": "display_data",
                    "data": {
                        "text/html": "(1 row affected)"
                    },
                    "metadata": {}
                },
                {
                    "output_type": "display_data",
                    "data": {
                        "text/html": "Total execution time: 00:00:00.201"
                    },
                    "metadata": {}
                },
                {
                    "output_type": "execute_result",
                    "execution_count": 4,
                    "data": {
                        "application/vnd.dataresource+json": {
                            "schema": {
                                "fields": [
                                    {
                                        "name": "(No column name)"
                                    }
                                ]
                            },
                            "data": [
                                {
                                    "0": "12"
                                }
                            ]
                        },
                        "text/html": "<table><tr><th>(No column name)</th></tr><tr><td>12</td></tr></table>"
                    },
                    "metadata": {}
                }
            ],
            "execution_count": 4
        },
        {
            "cell_type": "code",
            "source": [
                "SELECT TOP 5 *\r\n",
                "FROM Online_Retail\r\n",
                "WHERE YEAR(InvoiceDate) = 2010\r\n",
                ""
            ],
            "metadata": {
                "azdata_cell_guid": "42b00396-2841-449f-b04d-3983252cdfe3",
                "language": "sql"
            },
            "outputs": [
                {
                    "output_type": "display_data",
                    "data": {
                        "text/html": "(5 rows affected)"
                    },
                    "metadata": {}
                },
                {
                    "output_type": "display_data",
                    "data": {
                        "text/html": "Total execution time: 00:00:00.025"
                    },
                    "metadata": {}
                },
                {
                    "output_type": "execute_result",
                    "execution_count": 10,
                    "data": {
                        "application/vnd.dataresource+json": {
                            "schema": {
                                "fields": [
                                    {
                                        "name": "InvoiceNo"
                                    },
                                    {
                                        "name": "StockCode"
                                    },
                                    {
                                        "name": "Description"
                                    },
                                    {
                                        "name": "Quantity"
                                    },
                                    {
                                        "name": "InvoiceDate"
                                    },
                                    {
                                        "name": "UnitPrice"
                                    },
                                    {
                                        "name": "CustomerID"
                                    },
                                    {
                                        "name": "Country"
                                    }
                                ]
                            },
                            "data": [
                                {
                                    "0": "538566",
                                    "1": "20704",
                                    "2": "MR ROBOT SOFT TOY",
                                    "3": "1",
                                    "4": "2010-12-13 11:21:00.000",
                                    "5": "14.43",
                                    "6": "NULL",
                                    "7": "United Kingdom"
                                },
                                {
                                    "0": "538662",
                                    "1": "20704",
                                    "2": "MR ROBOT SOFT TOY",
                                    "3": "8",
                                    "4": "2010-12-13 15:44:00.000",
                                    "5": "1.95",
                                    "6": "15159",
                                    "7": "United Kingdom"
                                },
                                {
                                    "0": "538827",
                                    "1": "20704",
                                    "2": "MR ROBOT SOFT TOY",
                                    "3": "16",
                                    "4": "2010-12-14 12:59:00.000",
                                    "5": "1.95",
                                    "6": "14298",
                                    "7": "United Kingdom"
                                },
                                {
                                    "0": "538896",
                                    "1": "20704",
                                    "2": "MR ROBOT SOFT TOY",
                                    "3": "8",
                                    "4": "2010-12-15 09:09:00.000",
                                    "5": "1.95",
                                    "6": "16145",
                                    "7": "United Kingdom"
                                },
                                {
                                    "0": "539016",
                                    "1": "20704",
                                    "2": "MR ROBOT SOFT TOY",
                                    "3": "8",
                                    "4": "2010-12-15 13:49:00.000",
                                    "5": "1.95",
                                    "6": "13418",
                                    "7": "United Kingdom"
                                }
                            ]
                        },
                        "text/html": "<table><tr><th>InvoiceNo</th><th>StockCode</th><th>Description</th><th>Quantity</th><th>InvoiceDate</th><th>UnitPrice</th><th>CustomerID</th><th>Country</th></tr><tr><td>538566</td><td>20704</td><td>MR ROBOT SOFT TOY</td><td>1</td><td>2010-12-13 11:21:00.000</td><td>14.43</td><td>NULL</td><td>United Kingdom</td></tr><tr><td>538662</td><td>20704</td><td>MR ROBOT SOFT TOY</td><td>8</td><td>2010-12-13 15:44:00.000</td><td>1.95</td><td>15159</td><td>United Kingdom</td></tr><tr><td>538827</td><td>20704</td><td>MR ROBOT SOFT TOY</td><td>16</td><td>2010-12-14 12:59:00.000</td><td>1.95</td><td>14298</td><td>United Kingdom</td></tr><tr><td>538896</td><td>20704</td><td>MR ROBOT SOFT TOY</td><td>8</td><td>2010-12-15 09:09:00.000</td><td>1.95</td><td>16145</td><td>United Kingdom</td></tr><tr><td>539016</td><td>20704</td><td>MR ROBOT SOFT TOY</td><td>8</td><td>2010-12-15 13:49:00.000</td><td>1.95</td><td>13418</td><td>United Kingdom</td></tr></table>"
                    },
                    "metadata": {}
                }
            ],
            "execution_count": 10
        },
        {
            "cell_type": "code",
            "source": [
                "alter table Online_Retail\r\n",
                "Add sales float\r\n",
                "GO\r\n",
                "\r\n",
                "UPDATE Online_Retail\r\n",
                "set sales = Quantity * UnitPrice"
            ],
            "metadata": {
                "azdata_cell_guid": "80594121-cdeb-429a-8e58-d395e4c0ad4f",
                "language": "sql"
            },
            "outputs": [
                {
                    "output_type": "display_data",
                    "data": {
                        "text/html": "Commands completed successfully."
                    },
                    "metadata": {}
                },
                {
                    "output_type": "display_data",
                    "data": {
                        "text/html": "(530685 rows affected)"
                    },
                    "metadata": {}
                },
                {
                    "output_type": "display_data",
                    "data": {
                        "text/html": "Total execution time: 00:00:02.853"
                    },
                    "metadata": {}
                }
            ],
            "execution_count": 15
        },
        {
            "cell_type": "code",
            "source": [
                "SELECT TOP 2 * \r\n",
                "FROM Online_Retail\r\n",
                "GO"
            ],
            "metadata": {
                "azdata_cell_guid": "0d43232f-36ff-41e7-9f22-f9babee74417",
                "language": "sql"
            },
            "outputs": [
                {
                    "output_type": "display_data",
                    "data": {
                        "text/html": "(2 rows affected)"
                    },
                    "metadata": {}
                },
                {
                    "output_type": "display_data",
                    "data": {
                        "text/html": "Total execution time: 00:00:00.018"
                    },
                    "metadata": {}
                },
                {
                    "output_type": "execute_result",
                    "execution_count": 16,
                    "data": {
                        "application/vnd.dataresource+json": {
                            "schema": {
                                "fields": [
                                    {
                                        "name": "InvoiceNo"
                                    },
                                    {
                                        "name": "StockCode"
                                    },
                                    {
                                        "name": "Description"
                                    },
                                    {
                                        "name": "Quantity"
                                    },
                                    {
                                        "name": "InvoiceDate"
                                    },
                                    {
                                        "name": "UnitPrice"
                                    },
                                    {
                                        "name": "CustomerID"
                                    },
                                    {
                                        "name": "Country"
                                    },
                                    {
                                        "name": "sales"
                                    }
                                ]
                            },
                            "data": [
                                {
                                    "0": "540458",
                                    "1": "20702",
                                    "2": "PINK PADDED MOBILE",
                                    "3": "3",
                                    "4": "2011-01-07 12:28:00.000",
                                    "5": "4.25",
                                    "6": "12501",
                                    "7": "Germany",
                                    "8": "12.75"
                                },
                                {
                                    "0": "540543",
                                    "1": "20702",
                                    "2": "PINK PADDED MOBILE",
                                    "3": "4",
                                    "4": "2011-01-09 15:23:00.000",
                                    "5": "4.25",
                                    "6": "14395",
                                    "7": "United Kingdom",
                                    "8": "17"
                                }
                            ]
                        },
                        "text/html": "<table><tr><th>InvoiceNo</th><th>StockCode</th><th>Description</th><th>Quantity</th><th>InvoiceDate</th><th>UnitPrice</th><th>CustomerID</th><th>Country</th><th>sales</th></tr><tr><td>540458</td><td>20702</td><td>PINK PADDED MOBILE</td><td>3</td><td>2011-01-07 12:28:00.000</td><td>4.25</td><td>12501</td><td>Germany</td><td>12.75</td></tr><tr><td>540543</td><td>20702</td><td>PINK PADDED MOBILE</td><td>4</td><td>2011-01-09 15:23:00.000</td><td>4.25</td><td>14395</td><td>United Kingdom</td><td>17</td></tr></table>"
                    },
                    "metadata": {}
                }
            ],
            "execution_count": 16
        },
        {
            "cell_type": "code",
            "source": [
                "SELECT SUM(sales)\r\n",
                "FROM Online_Retail\r\n",
                "WHERE YEAR(InvoiceDate) = 2010"
            ],
            "metadata": {
                "azdata_cell_guid": "847557a7-6908-4210-b5c5-073fa8229bd8",
                "language": "sql"
            },
            "outputs": [
                {
                    "output_type": "display_data",
                    "data": {
                        "text/html": "(1 row affected)"
                    },
                    "metadata": {}
                },
                {
                    "output_type": "display_data",
                    "data": {
                        "text/html": "Total execution time: 00:00:00.160"
                    },
                    "metadata": {}
                },
                {
                    "output_type": "execute_result",
                    "execution_count": 17,
                    "data": {
                        "application/vnd.dataresource+json": {
                            "schema": {
                                "fields": [
                                    {
                                        "name": "(No column name)"
                                    }
                                ]
                            },
                            "data": [
                                {
                                    "0": "823746.1399999578"
                                }
                            ]
                        },
                        "text/html": "<table><tr><th>(No column name)</th></tr><tr><td>823746.1399999578</td></tr></table>"
                    },
                    "metadata": {}
                }
            ],
            "execution_count": 17
        },
        {
            "cell_type": "code",
            "source": [
                "SELECT MIN(DAY(InvoiceDate))\r\n",
                "FROM Online_Retail\r\n",
                "WHERE YEAR(InvoiceDate) = 2011 AND MONTH(InvoiceDate) = 12"
            ],
            "metadata": {
                "azdata_cell_guid": "32ffebd4-c15d-44ff-9879-2b9cfe487264",
                "language": "sql"
            },
            "outputs": [
                {
                    "output_type": "display_data",
                    "data": {
                        "text/html": "(1 row affected)"
                    },
                    "metadata": {}
                },
                {
                    "output_type": "display_data",
                    "data": {
                        "text/html": "Total execution time: 00:00:00.228"
                    },
                    "metadata": {}
                },
                {
                    "output_type": "execute_result",
                    "execution_count": 22,
                    "data": {
                        "application/vnd.dataresource+json": {
                            "schema": {
                                "fields": [
                                    {
                                        "name": "(No column name)"
                                    }
                                ]
                            },
                            "data": [
                                {
                                    "0": "1"
                                }
                            ]
                        },
                        "text/html": "<table><tr><th>(No column name)</th></tr><tr><td>1</td></tr></table>"
                    },
                    "metadata": {}
                }
            ],
            "execution_count": 22
        },
        {
            "cell_type": "code",
            "source": [
                "SELECT SUM(sales)\r\n",
                "FROM Online_Retail"
            ],
            "metadata": {
                "azdata_cell_guid": "28fe12f0-f8bd-4e2c-89f7-cc5211c188ce",
                "language": "sql"
            },
            "outputs": [
                {
                    "output_type": "display_data",
                    "data": {
                        "text/html": "(1 row affected)"
                    },
                    "metadata": {}
                },
                {
                    "output_type": "display_data",
                    "data": {
                        "text/html": "Total execution time: 00:00:00.580"
                    },
                    "metadata": {}
                },
                {
                    "output_type": "execute_result",
                    "execution_count": 23,
                    "data": {
                        "application/vnd.dataresource+json": {
                            "schema": {
                                "fields": [
                                    {
                                        "name": "(No column name)"
                                    }
                                ]
                            },
                            "data": [
                                {
                                    "0": "10666684.54400847"
                                }
                            ]
                        },
                        "text/html": "<table><tr><th>(No column name)</th></tr><tr><td>10666684.54400847</td></tr></table>"
                    },
                    "metadata": {}
                }
            ],
            "execution_count": 23
        },
        {
            "cell_type": "code",
            "source": [
                "SELECT DISTINCT Country\r\n",
                "FROM Online_Retail\r\n",
                "WHERE CustomerID = 14646"
            ],
            "metadata": {
                "azdata_cell_guid": "eba3171d-de9b-4975-a95a-49d25bb9d06c",
                "language": "sql"
            },
            "outputs": [
                {
                    "output_type": "display_data",
                    "data": {
                        "text/html": "(1 row affected)"
                    },
                    "metadata": {}
                },
                {
                    "output_type": "display_data",
                    "data": {
                        "text/html": "Total execution time: 00:00:00.733"
                    },
                    "metadata": {}
                },
                {
                    "output_type": "execute_result",
                    "metadata": {},
                    "execution_count": 1,
                    "data": {
                        "application/vnd.dataresource+json": {
                            "schema": {
                                "fields": [
                                    {
                                        "name": "Country"
                                    }
                                ]
                            },
                            "data": [
                                {
                                    "0": "Netherlands"
                                }
                            ]
                        },
                        "text/html": [
                            "<table>",
                            "<tr><th>Country</th></tr>",
                            "<tr><td>Netherlands</td></tr>",
                            "</table>"
                        ]
                    }
                }
            ],
            "execution_count": 1
        },
        {
            "cell_type": "code",
            "source": [
                "SELECT DISTINCT Country\r\n",
                "FROM Online_Retail\r\n",
                "WHERE CustomerID = 14646 "
            ],
            "metadata": {
                "azdata_cell_guid": "b82a7501-56ac-4e54-9e07-4ef1e4de7768",
                "language": "sql"
            },
            "outputs": [],
            "execution_count": null
        },
        {
            "cell_type": "code",
            "source": [
                "SELECT DISTINCT Country\r\n",
                "FROM Online_Retail\r\n",
                "WHERE CustomerID = 18102"
            ],
            "metadata": {
                "azdata_cell_guid": "067c4936-2c6a-45d1-b932-159868862938",
                "language": "sql"
            },
            "outputs": [
                {
                    "output_type": "display_data",
                    "data": {
                        "text/html": "(1 row affected)"
                    },
                    "metadata": {}
                },
                {
                    "output_type": "display_data",
                    "data": {
                        "text/html": "Total execution time: 00:00:00.134"
                    },
                    "metadata": {}
                },
                {
                    "output_type": "execute_result",
                    "metadata": {},
                    "execution_count": 2,
                    "data": {
                        "application/vnd.dataresource+json": {
                            "schema": {
                                "fields": [
                                    {
                                        "name": "Country"
                                    }
                                ]
                            },
                            "data": [
                                {
                                    "0": "United Kingdom"
                                }
                            ]
                        },
                        "text/html": [
                            "<table>",
                            "<tr><th>Country</th></tr>",
                            "<tr><td>United Kingdom</td></tr>",
                            "</table>"
                        ]
                    }
                }
            ],
            "execution_count": 2
        },
        {
            "cell_type": "code",
            "source": [
                "SELECT DISTINCT Country\r\n",
                "FROM Online_Retail\r\n",
                "WHERE CustomerID = 17450"
            ],
            "metadata": {
                "azdata_cell_guid": "92712000-7b2f-4e73-bfe9-e06c282998d3",
                "language": "sql"
            },
            "outputs": [
                {
                    "output_type": "display_data",
                    "data": {
                        "text/html": "(1 row affected)"
                    },
                    "metadata": {}
                },
                {
                    "output_type": "display_data",
                    "data": {
                        "text/html": "Total execution time: 00:00:00.174"
                    },
                    "metadata": {}
                },
                {
                    "output_type": "execute_result",
                    "metadata": {},
                    "execution_count": 3,
                    "data": {
                        "application/vnd.dataresource+json": {
                            "schema": {
                                "fields": [
                                    {
                                        "name": "Country"
                                    }
                                ]
                            },
                            "data": [
                                {
                                    "0": "United Kingdom"
                                }
                            ]
                        },
                        "text/html": [
                            "<table>",
                            "<tr><th>Country</th></tr>",
                            "<tr><td>United Kingdom</td></tr>",
                            "</table>"
                        ]
                    }
                }
            ],
            "execution_count": 3
        },
        {
            "cell_type": "code",
            "source": [
                "SELECT distinct month(InvoiceDate) as months,SUM(sales) OVER(PARTITION BY MONTH(InvoiceDate)) as sales1\r\n",
                "    ,SUM(Quantity) OVER( PARTITION BY MONTH(InvoiceDate)) as quantity1\r\n",
                "FROM Online_Retail\r\n",
                "WHERE CustomerID = 14646 and YEAR(InvoiceDate) =  2011\r\n",
                "Order by months"
            ],
            "metadata": {
                "azdata_cell_guid": "ae41f808-d971-45a6-aeb6-faa8e3c9446a",
                "language": "sql",
                "tags": []
            },
            "outputs": [
                {
                    "output_type": "display_data",
                    "data": {
                        "text/html": "(12 rows affected)"
                    },
                    "metadata": {}
                },
                {
                    "output_type": "display_data",
                    "data": {
                        "text/html": "Total execution time: 00:00:00.261"
                    },
                    "metadata": {}
                },
                {
                    "output_type": "execute_result",
                    "metadata": {},
                    "execution_count": 13,
                    "data": {
                        "application/vnd.dataresource+json": {
                            "schema": {
                                "fields": [
                                    {
                                        "name": "months"
                                    },
                                    {
                                        "name": "sales1"
                                    },
                                    {
                                        "name": "quantity1"
                                    }
                                ]
                            },
                            "data": [
                                {
                                    "0": "1",
                                    "1": "26476.680000000022",
                                    "2": "20300"
                                },
                                {
                                    "0": "2",
                                    "1": "22797.46",
                                    "2": "16274"
                                },
                                {
                                    "0": "3",
                                    "1": "21462.399999999994",
                                    "2": "14125"
                                },
                                {
                                    "0": "4",
                                    "1": "2976.5600000000004",
                                    "2": "1768"
                                },
                                {
                                    "0": "5",
                                    "1": "28408.14",
                                    "2": "19577"
                                },
                                {
                                    "0": "6",
                                    "1": "25288.98999999999",
                                    "2": "18663"
                                },
                                {
                                    "0": "7",
                                    "1": "26.02",
                                    "2": "10"
                                },
                                {
                                    "0": "8",
                                    "1": "40327.80999999996",
                                    "2": "29876"
                                },
                                {
                                    "0": "9",
                                    "1": "26750.69999999999",
                                    "2": "17164"
                                },
                                {
                                    "0": "10",
                                    "1": "39995.949999999975",
                                    "2": "26742"
                                },
                                {
                                    "0": "11",
                                    "1": "25375.410000000018",
                                    "2": "18320"
                                },
                                {
                                    "0": "12",
                                    "1": "11728.020000000002",
                                    "2": "7958"
                                }
                            ]
                        },
                        "text/html": [
                            "<table>",
                            "<tr><th>months</th><th>sales1</th><th>quantity1</th></tr>",
                            "<tr><td>1</td><td>26476.680000000022</td><td>20300</td></tr>",
                            "<tr><td>2</td><td>22797.46</td><td>16274</td></tr>",
                            "<tr><td>3</td><td>21462.399999999994</td><td>14125</td></tr>",
                            "<tr><td>4</td><td>2976.5600000000004</td><td>1768</td></tr>",
                            "<tr><td>5</td><td>28408.14</td><td>19577</td></tr>",
                            "<tr><td>6</td><td>25288.98999999999</td><td>18663</td></tr>",
                            "<tr><td>7</td><td>26.02</td><td>10</td></tr>",
                            "<tr><td>8</td><td>40327.80999999996</td><td>29876</td></tr>",
                            "<tr><td>9</td><td>26750.69999999999</td><td>17164</td></tr>",
                            "<tr><td>10</td><td>39995.949999999975</td><td>26742</td></tr>",
                            "<tr><td>11</td><td>25375.410000000018</td><td>18320</td></tr>",
                            "<tr><td>12</td><td>11728.020000000002</td><td>7958</td></tr>",
                            "</table>"
                        ]
                    }
                }
            ],
            "execution_count": 13
        },
        {
            "cell_type": "code",
            "source": [
                "select distinct count(CustomerID)\r\n",
                "FROM Online_Retail"
            ],
            "metadata": {
                "azdata_cell_guid": "bd06be55-8051-48ee-a42f-a8132d5f57f9",
                "language": "sql"
            },
            "outputs": [
                {
                    "output_type": "display_data",
                    "data": {
                        "text/html": "Warning: Null value is eliminated by an aggregate or other SET operation."
                    },
                    "metadata": {}
                },
                {
                    "output_type": "display_data",
                    "data": {
                        "text/html": "(1 row affected)"
                    },
                    "metadata": {}
                },
                {
                    "output_type": "display_data",
                    "data": {
                        "text/html": "Total execution time: 00:00:00.213"
                    },
                    "metadata": {}
                },
                {
                    "output_type": "execute_result",
                    "metadata": {},
                    "execution_count": 14,
                    "data": {
                        "application/vnd.dataresource+json": {
                            "schema": {
                                "fields": [
                                    {
                                        "name": "(No column name)"
                                    }
                                ]
                            },
                            "data": [
                                {
                                    "0": "397924"
                                }
                            ]
                        },
                        "text/html": [
                            "<table>",
                            "<tr><th>(No column name)</th></tr>",
                            "<tr><td>397924</td></tr>",
                            "</table>"
                        ]
                    }
                }
            ],
            "execution_count": 14
        },
        {
            "cell_type": "code",
            "source": [
                "SELECT SUM(sales)\r\n",
                "FROM Online_Retail\r\n",
                "WHERE CustomerID != 14646"
            ],
            "metadata": {
                "azdata_cell_guid": "6a2d891b-88b9-4fe7-9c01-7ddcf15fc60c",
                "language": "sql"
            },
            "outputs": [
                {
                    "output_type": "display_data",
                    "data": {
                        "text/html": "(1 row affected)"
                    },
                    "metadata": {}
                },
                {
                    "output_type": "display_data",
                    "data": {
                        "text/html": "Total execution time: 00:00:00.409"
                    },
                    "metadata": {}
                },
                {
                    "output_type": "execute_result",
                    "metadata": {},
                    "execution_count": 20,
                    "data": {
                        "application/vnd.dataresource+json": {
                            "schema": {
                                "fields": [
                                    {
                                        "name": "(No column name)"
                                    }
                                ]
                            },
                            "data": [
                                {
                                    "0": "8631201.884005655"
                                }
                            ]
                        },
                        "text/html": [
                            "<table>",
                            "<tr><th>(No column name)</th></tr>",
                            "<tr><td>8631201.884005655</td></tr>",
                            "</table>"
                        ]
                    }
                }
            ],
            "execution_count": 20
        },
        {
            "cell_type": "code",
            "source": [
                ""
            ],
            "metadata": {
                "azdata_cell_guid": "0c00f640-a405-4042-b51b-f50364022c2e",
                "language": "sql"
            },
            "outputs": [],
            "execution_count": null
        }
    ]
}